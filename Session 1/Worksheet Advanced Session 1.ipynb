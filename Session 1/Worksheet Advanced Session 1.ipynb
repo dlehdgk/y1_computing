{
 "cells": [
  {
   "cell_type": "markdown",
   "metadata": {},
   "source": [
    "# Non-Array Data Structures"
   ]
  },
  {
   "cell_type": "markdown",
   "metadata": {},
   "source": [
    "In the core worksheet for session 1 we restricted ourselves to working with Scipy array data structures. As physicists this was natural; arrays are a n-dimensional structure that can hold integers or floats and allow statistics to be performed on them. Python however offered multiple types of data structures that each serve an unique and useful purpose when programming."
   ]
  },
  {
   "cell_type": "markdown",
   "metadata": {},
   "source": [
    "### Lists\n",
    "\n",
    "Lists in Python are defined using square brackets surrounding zero or more comma separated literals: \n",
    "```python\n",
    "some_primes = [2,3,5,7,11,13]\n",
    "names_of_cats = [\"Ginger\", \"Princess\", \"Zorxo the Clawful\"]\n",
    "```\n",
    "\n",
    "Lists don't even have to be of the same type:\n",
    "\n",
    "```python\n",
    "Mixed_list = [2,\"Python\",16.5]\n",
    "```\n",
    "\n",
    "is an allowed list. Moreover lists don't need to contain any elements, they can be initalised as an empty list:\n",
    "\n",
    "```python\n",
    "Empty_list=[]\n",
    "```\n",
    "This is particularly useful when you will be adding elements to the list as your code progresses. To add elements you can use the <span style=\"color:blue\">.append</span> method to a list:\n",
    "\n",
    "```python\n",
    "Empty_list.append(2)\n",
    "```\n",
    "\n",
    "\n",
    "### Tuples\n",
    "Tuples behave very similarly to lists, but are immutable (i.e. they cannot be changed). Tuple literals are created by a writing a sequence of items separated by commas, optionally surrounded by parentheses. To get a tuple with only one element, you need to have a comma after the element.<br>\n",
    "```python\n",
    "my_tuple = 1,2,3\n",
    "my_tuple = (1,2,3)        # equivalent\n",
    "not_a_tuple = 1           # same as: not_a_tuple=1\n",
    "a_tuple = 1,\n",
    "a_tuple = (\"first!\",)     # here the first and only element of the tuple is \"first!\".\n",
    "```\n",
    "\n",
    "Many aspects of Python are implicit tuples. For instance, the assignment operator = will happily assign tuples of names to tuples of values:<br>\n",
    "```python\n",
    "A,B,C = 1,2,3\n",
    "```\n",
    "which is the same as:\n",
    "```python\n",
    "(A,B,C) = (1,2,3)\n",
    "```\n",
    "which is the same as:\n",
    "```python\n",
    "A = 1\n",
    "B = 2\n",
    "C = 3\n",
    "```\n",
    "\n",
    "This behaviour can be easily used to swap the names of data:<br>\n",
    "```python\n",
    "A,B = 1,2\n",
    "A,B = B,A\n",
    "print(A,B)   # prints 2,1\n",
    "```\n",
    "\n",
    "### Dictionaries\n",
    "The third most common collection type used in Python is the Dictionary, or dict, which store mappings from keys to values. For every key, there is a value, which can be almost any Python object. Keys are usually strings, but it is possible to use certain other objects as keys. Dictionary literals are written as a comma-separated list of key:value pairs, with a colon separating key from value, surrounded by (curly) braces. Dict items are accessed using the key within square brackets.<br>\n",
    "```python\n",
    "student_grades = {\"Simon\": 60, \"Jenny\":68, \"Laura\":112}\n",
    "student_grades[\"Laura\"] = 100 # Change Laura's grade.\n",
    "student_grades[\"Pug\"] = 58    # New student!\n",
    "print(student_grades[\"Jenny\"])\n",
    "68\n",
    "```\n",
    "<br>\n",
    "\n",
    "### When should you use each data type?\n",
    "\n",
    "An important question to ask yourself when first thinking about a problem is what data structure is the best for you to use? There is no universal answer for us and will really depend on the situation. When to use a dictionary is pretty straightforward, they are used when you want to link one set of values to another. A phonebook which links a person name to their number is a good use of a dictionary.\n",
    "\n",
    "When to use a list or tuple can be harder to understand. The key difference between between lists and tuple is that tuples are immutable, i.e once created they cannot be altered. Therefore a sequence of tuples can be used if you don't expect the sequence (or indeed) want them to change. However if you want to add or remove elements from a sequence during your code execution then lists are the data structure to go with.\n",
    "\n",
    "For most physics applications, we will be dealing with 2D, 3D or even higher dimensionality data that we need to operate on. This is best achieved using arrays contained within the scipy module."
   ]
  },
  {
   "cell_type": "markdown",
   "metadata": {},
   "source": [
    "### Objects and methods\n",
    "\n",
    "When looking at lists I used a word <span style=\"color:blue\">append</span> to add an element onto a list, this was called a method. What are methods, how do they work, how are they called and what are the implications of them? To understand this we need to dig a little deeper about how data structures are actually defined in Python.\n",
    "\n",
    "In Python, the data structures are you encounter are stored as objects. Objects are a way of storing definitions, methods, variables and many other things in a package that is modular, i.e. it is self-contained. \n",
    "\n",
    "As an example, imagine we has an object square, that is the shape square. Within that object square, there would need to be variables that define the length of the square. Additionally there can be methods that would calculate its area or perimeter. As another example consider an object bike, which can have variables that define the colour, the number of gears and methods that calculate the maximum speed that could be achieved.\n",
    "\n",
    "Coming back to data structures, the data structure objects contain definitions that define how data is stored within them, and then methods that allow you to manipulate that structure. This course will not consider objects explicitly but will merely make use of them. In next year's Computing course you will start to create your own objects and associated methods."
   ]
  },
  {
   "cell_type": "markdown",
   "metadata": {},
   "source": [
    "# Converting data types and data structures\n",
    "\n",
    "In section 4, it was shown that variables can be converted from one data type to another. The exact same can be done with data structures, whether it is to change the data types of the structure, or change the actual structure itself. The first thing to consider is: What is my data structure type and what do I want it to be? For physicists the most common change will be to go between a list and an array. To find the type of a data structure, use the <span style=\"color:blue\">type</span> command."
   ]
  },
  {
   "cell_type": "code",
<<<<<<< HEAD
   "execution_count": 1,
   "metadata": {},
   "outputs": [
    {
     "ename": "AttributeError",
     "evalue": "Module 'scipy' has no attribute 'array'",
     "output_type": "error",
     "traceback": [
      "\u001b[0;31m---------------------------------------------------------------------------\u001b[0m",
      "\u001b[0;31mKeyError\u001b[0m                                  Traceback (most recent call last)",
      "File \u001b[0;32m~/miniconda3/lib/python3.11/site-packages/scipy/__init__.py:137\u001b[0m, in \u001b[0;36m__getattr__\u001b[0;34m(name)\u001b[0m\n\u001b[1;32m    136\u001b[0m \u001b[38;5;28;01mtry\u001b[39;00m:\n\u001b[0;32m--> 137\u001b[0m     \u001b[38;5;28;01mreturn\u001b[39;00m \u001b[38;5;28mglobals\u001b[39m()[name]\n\u001b[1;32m    138\u001b[0m \u001b[38;5;28;01mexcept\u001b[39;00m \u001b[38;5;167;01mKeyError\u001b[39;00m:\n",
      "\u001b[0;31mKeyError\u001b[0m: 'array'",
      "\nDuring handling of the above exception, another exception occurred:\n",
      "\u001b[0;31mAttributeError\u001b[0m                            Traceback (most recent call last)",
      "Cell \u001b[0;32mIn[1], line 2\u001b[0m\n\u001b[1;32m      1\u001b[0m \u001b[38;5;28;01mimport\u001b[39;00m \u001b[38;5;21;01mscipy\u001b[39;00m \u001b[38;5;28;01mas\u001b[39;00m \u001b[38;5;21;01msp\u001b[39;00m\n\u001b[0;32m----> 2\u001b[0m Array\u001b[38;5;241m=\u001b[39msp\u001b[38;5;241m.\u001b[39marray([\u001b[38;5;241m1\u001b[39m,\u001b[38;5;241m2\u001b[39m,\u001b[38;5;241m3\u001b[39m,\u001b[38;5;241m4\u001b[39m])\n\u001b[1;32m      3\u001b[0m \u001b[38;5;28mprint\u001b[39m(\u001b[38;5;28mtype\u001b[39m(Array))\n\u001b[1;32m      4\u001b[0m List\u001b[38;5;241m=\u001b[39m[\u001b[38;5;241m1\u001b[39m,\u001b[38;5;241m2\u001b[39m,\u001b[38;5;241m3\u001b[39m,\u001b[38;5;241m4\u001b[39m]\n",
      "File \u001b[0;32m~/miniconda3/lib/python3.11/site-packages/scipy/__init__.py:139\u001b[0m, in \u001b[0;36m__getattr__\u001b[0;34m(name)\u001b[0m\n\u001b[1;32m    137\u001b[0m     \u001b[38;5;28;01mreturn\u001b[39;00m \u001b[38;5;28mglobals\u001b[39m()[name]\n\u001b[1;32m    138\u001b[0m \u001b[38;5;28;01mexcept\u001b[39;00m \u001b[38;5;167;01mKeyError\u001b[39;00m:\n\u001b[0;32m--> 139\u001b[0m     \u001b[38;5;28;01mraise\u001b[39;00m \u001b[38;5;167;01mAttributeError\u001b[39;00m(\n\u001b[1;32m    140\u001b[0m         \u001b[38;5;124mf\u001b[39m\u001b[38;5;124m\"\u001b[39m\u001b[38;5;124mModule \u001b[39m\u001b[38;5;124m'\u001b[39m\u001b[38;5;124mscipy\u001b[39m\u001b[38;5;124m'\u001b[39m\u001b[38;5;124m has no attribute \u001b[39m\u001b[38;5;124m'\u001b[39m\u001b[38;5;132;01m{\u001b[39;00mname\u001b[38;5;132;01m}\u001b[39;00m\u001b[38;5;124m'\u001b[39m\u001b[38;5;124m\"\u001b[39m\n\u001b[1;32m    141\u001b[0m     )\n",
      "\u001b[0;31mAttributeError\u001b[0m: Module 'scipy' has no attribute 'array'"
=======
   "execution_count": 2,
   "metadata": {
    "ExecuteTime": {
     "end_time": "2024-06-29T10:47:07.175432Z",
     "start_time": "2024-06-29T10:47:07.161653Z"
    }
   },
   "outputs": [
    {
     "name": "stdout",
     "output_type": "stream",
     "text": [
      "<class 'numpy.ndarray'>\n",
      "<class 'list'>\n"
     ]
    },
    {
     "name": "stderr",
     "output_type": "stream",
     "text": [
      "C:\\Users\\Dong Ha\\AppData\\Local\\Temp\\ipykernel_7244\\4062476366.py:2: DeprecationWarning: scipy.array is deprecated and will be removed in SciPy 2.0.0, use numpy.array instead\n",
      "  Array=sp.array([1,2,3,4])\n"
>>>>>>> f0abad1f11d69619c7dc5a5e4b715a2de6840584
     ]
    }
   ],
   "source": [
    "import scipy as sp\n",
    "Array=sp.array([1,2,3,4])\n",
    "print(type(Array))\n",
    "List=[1,2,3,4]\n",
    "print(type(List))"
   ]
  },
  {
   "cell_type": "markdown",
   "metadata": {},
   "source": [
    "Knowing the data structure is crucial to ensuring you handle your data in the most efficient way. For example the Scipy library is optimised to run operations on arrays. We can convert a list to an array but calling the <span style=\"color:blue\">sp.array</span> function and passing it the list as an argument."
   ]
  },
  {
   "cell_type": "code",
   "execution_count": 3,
   "metadata": {
    "ExecuteTime": {
     "end_time": "2024-06-29T10:47:09.242483Z",
     "start_time": "2024-06-29T10:47:09.237586Z"
    }
   },
   "outputs": [
    {
     "name": "stdout",
     "output_type": "stream",
     "text": [
      "[1 2 3 4] <class 'numpy.ndarray'>\n"
     ]
    },
    {
     "name": "stderr",
     "output_type": "stream",
     "text": [
      "C:\\Users\\Dong Ha\\AppData\\Local\\Temp\\ipykernel_7244\\2535561020.py:1: DeprecationWarning: scipy.array is deprecated and will be removed in SciPy 2.0.0, use numpy.array instead\n",
      "  Array_of_list=sp.array(List)\n"
     ]
    }
   ],
   "source": [
    "Array_of_list=sp.array(List)\n",
    "print(Array_of_list,type(Array_of_list))"
   ]
  },
  {
   "cell_type": "markdown",
   "metadata": {},
   "source": [
    "To go the other way, we use the <span style=\"color:blue\">sp.ndarray.tolist</span> function"
   ]
  },
  {
   "cell_type": "code",
   "execution_count": 4,
   "metadata": {
    "ExecuteTime": {
     "end_time": "2024-06-29T10:47:11.436466Z",
     "start_time": "2024-06-29T10:47:11.433490Z"
    }
   },
   "outputs": [
    {
     "name": "stdout",
     "output_type": "stream",
     "text": [
      "[1, 2, 3, 4] <class 'list'>\n"
     ]
    }
   ],
   "source": [
    "List_of_array=sp.ndarray.tolist(Array)\n",
    "print(List_of_array,type(List_of_array))"
   ]
  },
  {
   "cell_type": "markdown",
   "metadata": {},
   "source": [
    "For arrays, we can also look to see the type of data that is stored within it by appending our array with a <span style=\"color:blue\">.dtype</span>."
   ]
  },
  {
   "cell_type": "code",
   "execution_count": 5,
   "metadata": {
    "ExecuteTime": {
     "end_time": "2024-06-29T10:47:14.135152Z",
     "start_time": "2024-06-29T10:47:14.130512Z"
    }
   },
   "outputs": [
    {
     "name": "stdout",
     "output_type": "stream",
     "text": [
      "int32\n"
     ]
    }
   ],
   "source": [
    "print(Array.dtype)"
   ]
  },
  {
   "cell_type": "markdown",
   "metadata": {},
   "source": [
    "Here the data type is int32, which is a 32-bit integer (the 32-bit refers to how it is stored). Once the data type of an array is known, it can be converted by applying <span style=\"color:blue\">.astype</span> to the array."
   ]
  },
  {
   "cell_type": "code",
   "execution_count": 6,
   "metadata": {
    "ExecuteTime": {
     "end_time": "2024-06-29T10:47:15.557548Z",
     "start_time": "2024-06-29T10:47:15.553497Z"
    }
   },
   "outputs": [
    {
     "name": "stdout",
     "output_type": "stream",
     "text": [
      "float64\n",
      "complex128\n"
     ]
    }
   ],
   "source": [
    "Array_float=Array.astype(float)\n",
    "print(Array_float.dtype)\n",
    "Array_complex=Array.astype(complex)\n",
    "print(Array_complex.dtype)"
   ]
  },
  {
   "cell_type": "markdown",
   "metadata": {},
   "source": [
    "<div style=\"background-color: #00FF00\">\n",
    "\n",
    "**Exercise: the following data structures are either tuples,lists or arrays, query their data types. For each data structure, convert them to the other data structures: i.e. convert the array to a list and tuple, the list to an array and list, and the list to an array and tuple:**"
   ]
  },
  {
   "cell_type": "code",
   "execution_count": 7,
   "metadata": {
    "ExecuteTime": {
     "end_time": "2024-06-29T10:47:17.121689Z",
     "start_time": "2024-06-29T10:47:17.117518Z"
    }
   },
   "outputs": [
    {
     "name": "stderr",
     "output_type": "stream",
     "text": [
      "C:\\Users\\Dong Ha\\AppData\\Local\\Temp\\ipykernel_7244\\1909564222.py:1: DeprecationWarning: scipy.array is deprecated and will be removed in SciPy 2.0.0, use numpy.array instead\n",
      "  a=sp.array([1,2,3])\n"
     ]
    }
   ],
   "source": [
    "a=sp.array([1,2,3])\n",
    "b=(4,5,6)\n",
    "c=[7,8,9]"
   ]
  },
  {
   "cell_type": "code",
   "execution_count": 13,
   "metadata": {
    "ExecuteTime": {
     "end_time": "2024-06-29T10:50:55.829359Z",
     "start_time": "2024-06-29T10:50:55.824205Z"
    }
   },
   "outputs": [
    {
     "name": "stdout",
     "output_type": "stream",
     "text": [
      "[1, 2, 3] <class 'list'>\n",
      "(1, 2, 3) <class 'tuple'>\n"
     ]
    }
   ],
   "source": [
    "#array to list\n",
    "a_list = sp.ndarray.tolist(a)\n",
    "print(a_list,type(a_list))\n",
    "#array to tuple\n",
    "a_tuple = tuple(a)\n",
    "print(a_tuple,type(a_tuple))"
   ]
  },
  {
   "cell_type": "code",
   "execution_count": 19,
   "metadata": {
    "ExecuteTime": {
     "end_time": "2024-06-29T10:57:22.080255Z",
     "start_time": "2024-06-29T10:57:22.075649Z"
    }
   },
   "outputs": [
    {
     "name": "stdout",
     "output_type": "stream",
     "text": [
      "[4 5 6] <class 'numpy.ndarray'>\n"
     ]
    },
    {
     "name": "stderr",
     "output_type": "stream",
     "text": [
      "C:\\Users\\Dong Ha\\AppData\\Local\\Temp\\ipykernel_7244\\2975862893.py:2: DeprecationWarning: scipy.array is deprecated and will be removed in SciPy 2.0.0, use numpy.array instead\n",
      "  b_array =sp.array(b)\n"
     ]
    }
   ],
   "source": [
    "#tuple to array\n",
    "b_array =sp.array(b)\n",
    "print(b_array,type(b_array))"
   ]
  },
  {
   "cell_type": "code",
   "execution_count": 20,
   "metadata": {
    "ExecuteTime": {
     "end_time": "2024-06-29T10:58:41.279309Z",
     "start_time": "2024-06-29T10:58:41.275263Z"
    }
   },
   "outputs": [
    {
     "name": "stdout",
     "output_type": "stream",
     "text": [
      "[4, 5, 6] <class 'list'>\n"
     ]
    }
   ],
   "source": [
    "#tuple to list\n",
    "b_list = list(b)\n",
    "print(b_list, type(b_list))"
   ]
  },
  {
   "cell_type": "code",
   "execution_count": 18,
   "metadata": {
    "ExecuteTime": {
     "end_time": "2024-06-29T10:55:33.855893Z",
     "start_time": "2024-06-29T10:55:33.852207Z"
    }
   },
   "outputs": [
    {
     "name": "stdout",
     "output_type": "stream",
     "text": [
      "[7 8 9] <class 'numpy.ndarray'>\n",
      "7\n"
     ]
    },
    {
     "name": "stderr",
     "output_type": "stream",
     "text": [
      "C:\\Users\\Dong Ha\\AppData\\Local\\Temp\\ipykernel_7244\\4154055320.py:2: DeprecationWarning: scipy.array is deprecated and will be removed in SciPy 2.0.0, use numpy.array instead\n",
      "  c_array = sp.array(c)\n"
     ]
    }
   ],
   "source": [
    "#list to array\n",
    "c_array = sp.array(c)\n",
    "print(c_array,type(c_array))\n",
    "print(c_array[0])"
   ]
  },
  {
   "cell_type": "code",
   "execution_count": 17,
   "metadata": {
    "ExecuteTime": {
     "end_time": "2024-06-29T10:55:07.075835Z",
     "start_time": "2024-06-29T10:55:07.072684Z"
    }
   },
   "outputs": [
    {
     "name": "stdout",
     "output_type": "stream",
     "text": [
      "(7, 8, 9) <class 'tuple'>\n"
     ]
    }
   ],
   "source": [
    "#list to tuple\n",
    "c_tuple = tuple(c)\n",
    "print(c_tuple,type(c_tuple))"
   ]
  },
  {
   "cell_type": "markdown",
   "metadata": {},
   "source": [
    "# Advanced Data Structures - The Pandas DataFrame"
   ]
  },
  {
   "cell_type": "markdown",
   "metadata": {},
   "source": [
    "When loading files in session 1, all of the data that was loaded in had some fundamental drawbacks: they all had to the same data type and there was no information on what the data itself represented. For small and simple data sets the sp.loadtxt() will normally be sufficient, but when text files contain different data types or if you want to open for example an Excel spreadsheet, then the loadtxt function is insufficient. The Python library Pandas allows you to open and manipulate complex data in an intuitive fashion."
   ]
  },
  {
   "cell_type": "markdown",
   "metadata": {},
   "source": [
    "## Opening and examing a file with Pandas\n",
    "\n",
    "The first thing to is to import the pandas library using:\n",
    "\n",
    "```python\n",
    "import pandas as pd\n",
    "```\n",
    "\n",
    "To open a file with pandas, the most common function is the read_csv command where csv stands for comma separated variable. To open the resistivity data used in session 1, we use:\n",
    "\n",
    "```python\n",
    "df=pd.read_csv('Data/Resistivity2.csv')\n",
    "```\n",
    "\n",
    "(Note that this is a slightly different .csv file specifically used in this advanced worksheet).\n",
    "<div style=\"background-color: #00FF00\">\n",
    "    \n",
    "**Exercise: open the Resistivity2.csv data contained with the name df using the pd.read_csv command. Use the type command and print what data structure has been generated, and then print the data itself. What does this return?**"
   ]
  },
  {
   "cell_type": "code",
   "execution_count": 21,
   "metadata": {
    "ExecuteTime": {
     "end_time": "2024-06-29T11:12:43.089501Z",
     "start_time": "2024-06-29T11:12:43.059183Z"
    }
   },
   "outputs": [],
   "source": [
    "import pandas as pd\n",
    "df = pd.read_csv('Data/Resistivity.csv')"
   ]
  },
  {
   "cell_type": "code",
   "execution_count": 23,
   "metadata": {
    "ExecuteTime": {
     "end_time": "2024-06-29T11:13:54.406047Z",
     "start_time": "2024-06-29T11:13:54.397083Z"
    }
   },
   "outputs": [
    {
     "name": "stdout",
     "output_type": "stream",
     "text": [
      "<class 'pandas.core.frame.DataFrame'>\n",
      "  Temperature Resistivity Cu Resistivity Al\n",
      "0           K          Ohm m          Ohm m\n",
      "1         200       1.12E-08       1.76E-08\n",
      "2         220       1.18E-08       2.02E-08\n",
      "3         240       1.37E-08       2.18E-08\n",
      "4         260       1.52E-08       2.30E-08\n",
      "5         280       1.55E-08       2.68E-08\n",
      "6         300       1.73E-08       2.86E-08\n",
      "7         320       1.92E-08       3.05E-08\n",
      "8         340       1.99E-08       3.33E-08\n",
      "9         360       2.16E-08       3.49E-08\n"
     ]
    }
   ],
   "source": [
    "print(type(df))\n",
    "print(df)"
   ]
  },
  {
   "cell_type": "markdown",
   "metadata": {},
   "source": [
    "In some cases, the data you are reading in might not be in a comma separated variable format, there may be whitespaces or semicolons. To ensure that the data is read in properly you will need to pass the delim_whitespace keyword to tell the function how the data is separated. Look at the read_csv documentation to learn about the other options available."
   ]
  },
  {
   "cell_type": "markdown",
   "metadata": {},
   "source": [
    "## The DataFrame\n",
    "\n",
    "The data strucure that has been generated by the read_csv is called a DataFrame, this is at the heart of how Pandas stores and manipulates data. A DataFrame is a 2D data structure that is composed of the following components:\n",
    "\n",
    "1) The data\n",
    "\n",
    "2) The index\n",
    "\n",
    "3) The columns\n",
    "\n",
    "Looking as the DataFrame printed above the data should be obvious, it is all of the numbers that was contained in the Resistivity2.csv file. The index, which is the row number of the DataFrame, defines all of the instances when data was taken. In this case data was taken every 20 K between 200-360 K. The columns contain the data that was taken at each index, which for this data was the restivity of copper and aluminium.\n",
    "\n",
    "There are two important notes about the DataFrame that should be noted now. The top of the DataFrame contains what was in the top of the file that was loaded in, in this instance it was the labels of the resistivity data. These are known as headers, and will allow you to access your data without needing to use indices. You should be careful when loading in data that it has header data, or else Pandas will place your first data row into that slot. \n",
    "\n",
    "The first column of the DataFrame contains the numbers 0-9. These are the index labels that can be used to access rows of data. These indices were generated automatically because we did not tell it what to use. Looking at our data however, we can see a more convenient index to use: The temperature of our data! To set the indices of our DataFrame to be the temperature, we can use the index_col keyword argument when reading in our data or use the set_index function on our DataFrame. Look up these two methods to understand.\n",
    "\n",
    "<div style=\"background-color: #00FF00\">\n",
    "    \n",
    "**Exercise: using the set_index function, make a new DataFrame df2 that has the temperature column as the index. Then, create a new DataFrame df3 that sets the index column to temperature during read in. Print these two DataFrames to look at their structure.**"
   ]
  },
  {
   "cell_type": "code",
   "execution_count": 30,
   "metadata": {
    "ExecuteTime": {
     "end_time": "2024-06-29T11:24:24.992791Z",
     "start_time": "2024-06-29T11:24:24.985498Z"
    }
   },
   "outputs": [
    {
     "name": "stdout",
     "output_type": "stream",
     "text": [
      "            Resistivity Cu Resistivity Al\n",
      "Temperature                              \n",
      "K                    Ohm m          Ohm m\n",
      "200               1.12E-08       1.76E-08\n",
      "220               1.18E-08       2.02E-08\n",
      "240               1.37E-08       2.18E-08\n",
      "260               1.52E-08       2.30E-08\n",
      "280               1.55E-08       2.68E-08\n",
      "300               1.73E-08       2.86E-08\n",
      "320               1.92E-08       3.05E-08\n",
      "340               1.99E-08       3.33E-08\n",
      "360               2.16E-08       3.49E-08\n"
     ]
    }
   ],
   "source": [
    "#using set_index function\n",
    "df2 = df.set_index('Temperature')\n",
    "print(df2)"
   ]
  },
  {
   "cell_type": "code",
   "execution_count": 26,
   "metadata": {
    "ExecuteTime": {
     "end_time": "2024-06-29T11:22:30.361431Z",
     "start_time": "2024-06-29T11:22:30.354013Z"
    }
   },
   "outputs": [
    {
     "name": "stdout",
     "output_type": "stream",
     "text": [
      "                 Resistivity Cu (ohm/m)  Resistivity Al (ohm/m)\n",
      "Temperature (K)                                                \n",
      "200                        1.120000e-08            1.760000e-08\n",
      "220                        1.180000e-08            2.020000e-08\n",
      "240                        1.370000e-08            2.180000e-08\n",
      "260                        1.520000e-08            2.300000e-08\n",
      "280                        1.550000e-08            2.680000e-08\n",
      "300                        1.730000e-08            2.860000e-08\n",
      "320                        1.920000e-08            3.050000e-08\n",
      "340                        1.990000e-08            3.330000e-08\n",
      "360                        2.160000e-08            3.490000e-08\n"
     ]
    }
   ],
   "source": [
    "#using index_col argument in pd.read_csv\n",
    "df3 = pd.read_csv('Data/Resistivity2.csv', index_col=0)\n",
    "print(df3)"
   ]
  },
  {
   "cell_type": "markdown",
   "metadata": {},
   "source": [
    "For larger data sets, it can be disadvantageous to print the whole DataFrame to the screen. We can look at only parts of the data using the .head() and .tail() functions on the DataFrames.\n",
    "\n",
    "<div style=\"background-color: #00FF00\">\n",
    "    \n",
    "**Exercise: use the .head() and .tail() functions to look at the select parts of the DataFrame df2. How many rows does it print out by default? How can you change that? Look at the documentation to help you.**"
   ]
  },
  {
   "cell_type": "code",
   "execution_count": 37,
   "metadata": {
    "ExecuteTime": {
     "end_time": "2024-06-29T11:49:18.878099Z",
     "start_time": "2024-06-29T11:49:18.870622Z"
    }
   },
   "outputs": [
    {
     "name": "stdout",
     "output_type": "stream",
     "text": [
      "            Resistivity Cu Resistivity Al\n",
      "Temperature                              \n",
      "K                    Ohm m          Ohm m\n",
      "200               1.12E-08       1.76E-08\n",
      "220               1.18E-08       2.02E-08\n",
      "240               1.37E-08       2.18E-08\n",
      "260               1.52E-08       2.30E-08\n",
      "            Resistivity Cu Resistivity Al\n",
      "Temperature                              \n",
      "K                    Ohm m          Ohm m\n"
     ]
    }
   ],
   "source": [
    "print(df2.head())\n",
    "#first 5 rows by default starting from the top\n",
    "print(df2.head(1))"
   ]
  },
  {
   "cell_type": "code",
   "execution_count": 39,
   "metadata": {
    "ExecuteTime": {
     "end_time": "2024-06-29T11:50:48.610364Z",
     "start_time": "2024-06-29T11:50:48.601245Z"
    }
   },
   "outputs": [
    {
     "name": "stdout",
     "output_type": "stream",
     "text": [
      "            Resistivity Cu Resistivity Al\n",
      "Temperature                              \n",
      "280               1.55E-08       2.68E-08\n",
      "300               1.73E-08       2.86E-08\n",
      "320               1.92E-08       3.05E-08\n",
      "340               1.99E-08       3.33E-08\n",
      "360               2.16E-08       3.49E-08\n",
      "            Resistivity Cu Resistivity Al\n",
      "Temperature                              \n",
      "360               2.16E-08       3.49E-08\n"
     ]
    }
   ],
   "source": [
    "print(df2.tail())\n",
    "#first 5 rows from the bottom\n",
    "print(df2.tail(1))"
   ]
  },
  {
   "cell_type": "markdown",
   "metadata": {},
   "source": [
    "We sometimes don't need to look at the information in the DataFrame itself, we only want a top level summary of the data. This is achieved using the DataFrame.info() command.\n",
    "\n",
    "<div style=\"background-color: #00FF00\">\n",
    "    \n",
    "**Exercise: use the DataFrame.info() command to generate a top level summary of the DataFrames df2/df3. What do you see?**"
   ]
  },
  {
   "cell_type": "code",
   "execution_count": 40,
   "metadata": {
    "ExecuteTime": {
     "end_time": "2024-06-29T11:51:44.929323Z",
     "start_time": "2024-06-29T11:51:44.906077Z"
    }
   },
   "outputs": [
    {
     "name": "stdout",
     "output_type": "stream",
     "text": [
      "<class 'pandas.core.frame.DataFrame'>\n",
      "Index: 10 entries, K to 360\n",
      "Data columns (total 2 columns):\n",
      " #   Column          Non-Null Count  Dtype \n",
      "---  ------          --------------  ----- \n",
      " 0   Resistivity Cu  10 non-null     object\n",
      " 1   Resistivity Al  10 non-null     object\n",
      "dtypes: object(2)\n",
      "memory usage: 240.0+ bytes\n",
      "None\n",
      "<class 'pandas.core.frame.DataFrame'>\n",
      "Index: 9 entries, 200 to 360\n",
      "Data columns (total 2 columns):\n",
      " #   Column                  Non-Null Count  Dtype  \n",
      "---  ------                  --------------  -----  \n",
      " 0   Resistivity Cu (ohm/m)  9 non-null      float64\n",
      " 1   Resistivity Al (ohm/m)  9 non-null      float64\n",
      "dtypes: float64(2)\n",
      "memory usage: 216.0 bytes\n",
      "None\n"
     ]
    }
   ],
   "source": [
    "print(df2.info())\n",
    "print(df3.info())"
   ]
  },
  {
   "cell_type": "markdown",
   "metadata": {},
   "source": [
    "### Creating a DataFrame\n",
    "Often, we are dealing with data that is not in a format that can immediately be turned into a DataFrame as it may be missing headers or an index. It is then down to the user to create the necessary information to turn the data into a DataFrame compatible format. To do this we use the pd.DataFrame function. For example:"
   ]
  },
  {
   "cell_type": "code",
   "execution_count": 41,
   "metadata": {
    "ExecuteTime": {
     "end_time": "2024-06-29T11:54:39.949492Z",
     "start_time": "2024-06-29T11:54:39.941531Z"
    }
   },
   "outputs": [
    {
     "name": "stdout",
     "output_type": "stream",
     "text": [
      "   a  b  c  d\n",
      "0  2  3  e  5\n",
      "1  4  3  f  5\n",
      "2  5  3  g  4\n"
     ]
    }
   ],
   "source": [
    "import pandas as pd\n",
    "import scipy as sp\n",
    "\n",
    "d=[[2,3,'e',5],[4,3,'f',5],[5,3,'g',4]]\n",
    "Headers=['a','b','c','d']\n",
    "df=pd.DataFrame(data=d,columns=Headers)\n",
    "print(df)"
   ]
  },
  {
   "cell_type": "markdown",
   "metadata": {},
   "source": [
    "Notice that one of the column values are strings and not numbers; this is one of the big advantages of using a DataFrame to store your data.\n",
    "\n",
    "\n",
    "<div style=\"background-color: #00FF00\">\n",
    "    \n",
    "**Exercise: create a DataFrame from the following array:**\n",
    "\n",
    "```python\n",
    "\n",
    "Array=[[1,2,3,4],[1,2,3,4],[1,2,3,4],[1,2,3,4],[1,2,3,4],[1,2,3,4],[1,2,3,4],[1,2,3,4]]\n",
    "\n",
    "```\n",
    "\n",
    "**with the following header:**\n",
    "\n",
    "```python\n",
    "header=['a','b','c','d']\n",
    "```\n",
    "<p>\n",
    ".\n"
   ]
  },
  {
   "cell_type": "code",
   "execution_count": 42,
   "metadata": {
    "ExecuteTime": {
     "end_time": "2024-06-29T11:58:47.253350Z",
     "start_time": "2024-06-29T11:58:47.244624Z"
    }
   },
   "outputs": [
    {
     "name": "stdout",
     "output_type": "stream",
     "text": [
      "   a  b  c  d\n",
      "0  1  2  3  4\n",
      "1  1  2  3  4\n",
      "2  1  2  3  4\n",
      "3  1  2  3  4\n",
      "4  1  2  3  4\n",
      "5  1  2  3  4\n",
      "6  1  2  3  4\n",
      "7  1  2  3  4\n"
     ]
    }
   ],
   "source": [
    "Array=[[1,2,3,4],[1,2,3,4],[1,2,3,4],[1,2,3,4],[1,2,3,4],[1,2,3,4],[1,2,3,4],[1,2,3,4]]\n",
    "header=['a','b','c','d']\n",
    "\n",
    "df = pd.DataFrame(data=Array,columns=header)\n",
    "print(df)"
   ]
  },
  {
   "cell_type": "markdown",
   "metadata": {},
   "source": [
    "## Plotting with Pandas\n",
    "\n",
    "Being able to store heterogeneous data in a single data structure is useful, but the real power of Pandas comes when it comes to plotting using a DataFrame. This is accomplished by the following line of code:\n",
    "\n",
    "```python\n",
    "df['column name'].plot()\n",
    "```\n",
    "\n",
    "Alternatively you can use:\n",
    "\n",
    "```python\n",
    "df.plot('x column name','y column name')\n",
    "```\n",
    "Note how we only reference the name of the column, we don't need to know its index. For the first method we didn't set an x-axis; with that plotting nomenclature Pandas will use whatever the index is as an x-axis. Let's look at these methods of plotting:"
   ]
  },
  {
   "cell_type": "code",
   "execution_count": 43,
   "metadata": {
    "ExecuteTime": {
     "end_time": "2024-06-29T11:59:55.095997Z",
     "start_time": "2024-06-29T11:59:54.336586Z"
    }
   },
   "outputs": [
    {
     "data": {
      "image/png": "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",
      "text/plain": [
       "<Figure size 640x480 with 1 Axes>"
      ]
     },
     "metadata": {},
     "output_type": "display_data"
    },
    {
     "data": {
      "image/png": "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",
      "text/plain": [
       "<Figure size 640x480 with 1 Axes>"
      ]
     },
     "metadata": {},
     "output_type": "display_data"
    }
   ],
   "source": [
    "import matplotlib.pyplot as plt # this needs to be imported to show the plot\n",
    "\n",
    "df=pd.read_csv('Data/Resistivity2.csv')\n",
    "df['Resistivity Cu (ohm/m)'].plot()\n",
    "df.plot('Temperature (K)','Resistivity Cu (ohm/m)')\n",
    "plt.show()"
   ]
  },
  {
   "cell_type": "markdown",
   "metadata": {},
   "source": [
    "In the second case we had to use the DataFrame df, which didn't have temperature set as the index. In the first plotting style it has taken the DataFrame index, in this case temperature, and has set it to be the x-axis. Plotting data without having to reference column numbers is more intuitive and will make your code easier to understand.\n",
    "\n",
    "**It however relies on the programmer to be careful when making the column names into something sensible, so take care !!**"
   ]
  },
  {
   "cell_type": "markdown",
   "metadata": {},
   "source": [
    "\n",
    "<div style=\"background-color: #00FF00\">\n",
    "\n",
    "**Exercise - Plot the Al resisitivty data using both styles of plotting. Be sure to include a title and y label in your plot.**"
   ]
  },
  {
   "cell_type": "code",
   "execution_count": 44,
   "metadata": {
    "ExecuteTime": {
     "end_time": "2024-06-29T12:01:38.389574Z",
     "start_time": "2024-06-29T12:01:38.224681Z"
    }
   },
   "outputs": [
    {
     "data": {
      "image/png": "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",
      "text/plain": [
       "<Figure size 640x480 with 1 Axes>"
      ]
     },
     "metadata": {},
     "output_type": "display_data"
    },
    {
     "data": {
      "image/png": "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",
      "text/plain": [
       "<Figure size 640x480 with 1 Axes>"
      ]
     },
     "metadata": {},
     "output_type": "display_data"
    }
   ],
   "source": [
    "df['Resistivity Al (ohm/m)'].plot()\n",
    "df.plot('Temperature (K)','Resistivity Al (ohm/m)')\n",
    "plt.show()"
   ]
  },
  {
   "cell_type": "markdown",
   "metadata": {},
   "source": [
    "On a more general note, we can access columns by querying their column name, for example:"
   ]
  },
  {
   "cell_type": "code",
   "execution_count": 45,
   "metadata": {
    "ExecuteTime": {
     "end_time": "2024-06-29T12:01:58.425885Z",
     "start_time": "2024-06-29T12:01:58.421160Z"
    }
   },
   "outputs": [
    {
     "name": "stdout",
     "output_type": "stream",
     "text": [
      "0    200\n",
      "1    220\n",
      "2    240\n",
      "3    260\n",
      "4    280\n",
      "5    300\n",
      "6    320\n",
      "7    340\n",
      "8    360\n",
      "Name: Temperature (K), dtype: int64\n"
     ]
    }
   ],
   "source": [
    "print(df['Temperature (K)'])"
   ]
  },
  {
   "cell_type": "markdown",
   "metadata": {},
   "source": [
    "## Filtering DataFrames\n",
    "\n",
    "So far we have made use of the whole DataFrame. A powerful feature of the DataFrame is when you have a large amount of data and want to analyse only a small subset of it based on a condition that is already within the data. As an example, we can filter the above DataFrame df to only contain temperatures below 300 eV:"
   ]
  },
  {
   "cell_type": "code",
   "execution_count": 46,
   "metadata": {
    "ExecuteTime": {
     "end_time": "2024-06-29T12:02:49.907405Z",
     "start_time": "2024-06-29T12:02:49.885530Z"
    }
   },
   "outputs": [
    {
     "name": "stdout",
     "output_type": "stream",
     "text": [
      "   Temperature (K)  Resistivity Cu (ohm/m)  Resistivity Al (ohm/m)\n",
      "0              200            1.120000e-08            1.760000e-08\n",
      "1              220            1.180000e-08            2.020000e-08\n",
      "2              240            1.370000e-08            2.180000e-08\n",
      "3              260            1.520000e-08            2.300000e-08\n",
      "4              280            1.550000e-08            2.680000e-08\n"
     ]
    }
   ],
   "source": [
    "df3=df[df['Temperature (K)'] < 300]\n",
    "print(df3)"
   ]
  },
  {
   "cell_type": "markdown",
   "metadata": {},
   "source": [
    "Notice that compared to the original DataFrame, we have 4 less values. This becomes powerful when we have a large 2D DataFrame that contains lots of data that are grouped by the value contained in a certain column. Look at the following DataFrame:"
   ]
  },
  {
   "cell_type": "code",
   "execution_count": 47,
   "metadata": {
    "ExecuteTime": {
     "end_time": "2024-06-29T12:03:10.862023Z",
     "start_time": "2024-06-29T12:03:10.824089Z"
    }
   },
   "outputs": [
    {
     "name": "stdout",
     "output_type": "stream",
     "text": [
      "<class 'pandas.core.frame.DataFrame'>\n",
      "RangeIndex: 392 entries, 0 to 391\n",
      "Data columns (total 12 columns):\n",
      " #   Column  Non-Null Count  Dtype  \n",
      "---  ------  --------------  -----  \n",
      " 0   mpg     392 non-null    float64\n",
      " 1   cyl     392 non-null    int64  \n",
      " 2   displ   392 non-null    float64\n",
      " 3   hp      392 non-null    int64  \n",
      " 4   weight  392 non-null    int64  \n",
      " 5   accel   392 non-null    float64\n",
      " 6   yr      392 non-null    int64  \n",
      " 7   origin  392 non-null    object \n",
      " 8   name    392 non-null    object \n",
      " 9   color   392 non-null    object \n",
      " 10  size    392 non-null    float64\n",
      " 11  marker  392 non-null    object \n",
      "dtypes: float64(4), int64(4), object(4)\n",
      "memory usage: 36.9+ KB\n",
      "None\n",
      "\n",
      "    mpg  cyl  displ   hp  weight  ...  origin              name  color       size marker\n",
      "0  18.0    6  250.0   88    3139  ...      US      ford mustang    red  27.370336      o\n",
      "1   9.0    8  304.0  193    4732  ...      US          hi 1200d  green  62.199511      o\n",
      "2  36.1    4   91.0   60    1800  ...    Asia  honda civic cvcc   blue   9.000000      x\n",
      "3  18.5    6  250.0   98    3525  ...      US      ford granada    red  34.515625      o\n",
      "4  34.3    4   97.0   78    2188  ...  Europe         audi 4000   blue  13.298178      s\n",
      "\n",
      "[5 rows x 12 columns]\n"
     ]
    }
   ],
   "source": [
    "car_df=pd.read_csv('Data/Car_Data.csv')\n",
    "print(car_df.info())\n",
    "print('')\n",
    "print(car_df.head())"
   ]
  },
  {
   "cell_type": "markdown",
   "metadata": {},
   "source": [
    "This DataFrame contains information about various aspects of 392 cars. There is a lot of information here, however we will focus only focus on a few columns to illustrate some key features of DataFrames. Let's plot the weight of the car versus the mpg, the miles per gallon it can achieve."
   ]
  },
  {
   "cell_type": "code",
   "execution_count": 48,
   "metadata": {
    "ExecuteTime": {
     "end_time": "2024-06-29T12:04:55.233724Z",
     "start_time": "2024-06-29T12:04:55.135952Z"
    }
   },
   "outputs": [
    {
     "data": {
      "image/png": "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",
      "text/plain": [
       "<Figure size 640x480 with 1 Axes>"
      ]
     },
     "metadata": {},
     "output_type": "display_data"
    }
   ],
   "source": [
    "car_df.plot.scatter(x='weight',y='mpg')\n",
    "plt.show()"
   ]
  },
  {
   "cell_type": "markdown",
   "metadata": {},
   "source": [
    "Note that we have used the scatter plot function and not just the plot function. This is because the DataFrame is not sorted in ascending weight. Looking at the plot, we can see a clear trend that is not suprising: heavier cars get worse mileage. Looking at the summary of the DataFrame, we see that there is an origin column that says where the car was made. To see all the different values contained in the origin column, we use the following command:"
   ]
  },
  {
   "cell_type": "code",
   "execution_count": 49,
   "metadata": {
    "ExecuteTime": {
     "end_time": "2024-06-29T12:05:59.632484Z",
     "start_time": "2024-06-29T12:05:59.628387Z"
    }
   },
   "outputs": [
    {
     "name": "stdout",
     "output_type": "stream",
     "text": [
      "['US' 'Asia' 'Europe']\n"
     ]
    }
   ],
   "source": [
    "print(car_df.origin.unique())"
   ]
  },
  {
   "cell_type": "markdown",
   "metadata": {},
   "source": [
    "Note that using the command:\n",
    "\n",
    "```python\n",
    "print(car_df.mpg.unique())\n",
    "```\n",
    "\n",
    "would be a bad idea as there are lots of different values of mpg; we can see this from the graph we plotted! Just as we filtered our resistivity DataFrame based on temperature, we can filter our car data based on region. The syntax for this is a little different from above, and looks like:\n",
    "\n",
    "```python\n",
    "New_df=Old_df[old_df['column_name'].str.contains('condition')]\n",
    "```\n",
    "\n",
    "So to extract the US car data from the DataFrame, we would use:\n",
    "\n",
    "```python\n",
    "car_df_US=car_df[car_df['origin'].str.contains('US')]\n",
    "```\n"
   ]
  },
  {
   "cell_type": "markdown",
   "metadata": {},
   "source": [
    "<div style=\"background-color: #00FF00\">\n",
    "\n",
    "**Exercise: extract the data for each origin into a separate DataFrame, like the code snippet above. Then plot the weight vs mpg of each car region on the same graph in different colours to answer the question: which region produces cars with the worst mpg?**\n",
    "\n",
    "**Hint: To get each scatter plot on a common axis, you will need to use the ax keyword argument. Consult Google, the Pandas documentation, and Stack Overflow about how to go about this!**"
   ]
  },
  {
   "cell_type": "code",
   "execution_count": 50,
   "metadata": {
    "ExecuteTime": {
     "end_time": "2024-06-29T12:08:44.851085Z",
     "start_time": "2024-06-29T12:08:44.834840Z"
    }
   },
   "outputs": [
    {
     "name": "stdout",
     "output_type": "stream",
     "text": [
      "<class 'pandas.core.frame.DataFrame'>\n",
      "Index: 245 entries, 0 to 391\n",
      "Data columns (total 12 columns):\n",
      " #   Column  Non-Null Count  Dtype  \n",
      "---  ------  --------------  -----  \n",
      " 0   mpg     245 non-null    float64\n",
      " 1   cyl     245 non-null    int64  \n",
      " 2   displ   245 non-null    float64\n",
      " 3   hp      245 non-null    int64  \n",
      " 4   weight  245 non-null    int64  \n",
      " 5   accel   245 non-null    float64\n",
      " 6   yr      245 non-null    int64  \n",
      " 7   origin  245 non-null    object \n",
      " 8   name    245 non-null    object \n",
      " 9   color   245 non-null    object \n",
      " 10  size    245 non-null    float64\n",
      " 11  marker  245 non-null    object \n",
      "dtypes: float64(4), int64(4), object(4)\n",
      "memory usage: 24.9+ KB\n",
      "None\n",
      "    mpg  cyl  displ   hp  ...                     name  color       size marker\n",
      "0  18.0    6  250.0   88  ...             ford mustang    red  27.370336      o\n",
      "1   9.0    8  304.0  193  ...                 hi 1200d  green  62.199511      o\n",
      "3  18.5    6  250.0   98  ...             ford granada    red  34.515625      o\n",
      "8  15.0    8  302.0  130  ...  mercury cougar brougham  green  51.241736      o\n",
      "9  17.0    8  302.0  140  ...              ford torino  green  33.043336      o\n",
      "\n",
      "[5 rows x 12 columns]\n"
     ]
    }
   ],
   "source": [
    "#Cars made in the US\n",
    "car_df_US = car_df[car_df['origin'].str.contains('US')]\n",
    "print(car_df_US.info())\n",
    "print(car_df_US.head())"
   ]
  },
  {
   "cell_type": "code",
   "execution_count": 51,
   "metadata": {
    "ExecuteTime": {
     "end_time": "2024-06-29T12:10:43.737711Z",
     "start_time": "2024-06-29T12:10:43.723337Z"
    }
   },
   "outputs": [
    {
     "name": "stdout",
     "output_type": "stream",
     "text": [
      "<class 'pandas.core.frame.DataFrame'>\n",
      "Index: 79 entries, 2 to 389\n",
      "Data columns (total 12 columns):\n",
      " #   Column  Non-Null Count  Dtype  \n",
      "---  ------  --------------  -----  \n",
      " 0   mpg     79 non-null     float64\n",
      " 1   cyl     79 non-null     int64  \n",
      " 2   displ   79 non-null     float64\n",
      " 3   hp      79 non-null     int64  \n",
      " 4   weight  79 non-null     int64  \n",
      " 5   accel   79 non-null     float64\n",
      " 6   yr      79 non-null     int64  \n",
      " 7   origin  79 non-null     object \n",
      " 8   name    79 non-null     object \n",
      " 9   color   79 non-null     object \n",
      " 10  size    79 non-null     float64\n",
      " 11  marker  79 non-null     object \n",
      "dtypes: float64(4), int64(4), object(4)\n",
      "memory usage: 8.0+ KB\n",
      "None\n",
      "     mpg  cyl  displ   hp  ...                 name  color       size marker\n",
      "2   36.1    4   91.0   60  ...     honda civic cvcc   blue   9.000000      x\n",
      "5   32.9    4  119.0  100  ...         datsun 200sx   blue  18.995069      x\n",
      "6   32.2    4  108.0   75  ...       toyota corolla   blue  14.250625      x\n",
      "18  32.0    4   71.0   65  ...  toyota corolla 1200   blue   9.363600      x\n",
      "19  21.5    3   80.0  110  ...           mazda rx-4  black  20.551111      x\n",
      "\n",
      "[5 rows x 12 columns]\n"
     ]
    }
   ],
   "source": [
    "#Cars made in Asia\n",
    "car_df_Asia = car_df[car_df['origin'].str.contains('Asia')]\n",
    "print(car_df_Asia.info())\n",
    "print(car_df_Asia.head())"
   ]
  },
  {
   "cell_type": "code",
   "execution_count": 52,
   "metadata": {
    "ExecuteTime": {
     "end_time": "2024-06-29T12:12:21.915102Z",
     "start_time": "2024-06-29T12:12:21.900087Z"
    }
   },
   "outputs": [
    {
     "name": "stdout",
     "output_type": "stream",
     "text": [
      "<class 'pandas.core.frame.DataFrame'>\n",
      "Index: 68 entries, 4 to 381\n",
      "Data columns (total 12 columns):\n",
      " #   Column  Non-Null Count  Dtype  \n",
      "---  ------  --------------  -----  \n",
      " 0   mpg     68 non-null     float64\n",
      " 1   cyl     68 non-null     int64  \n",
      " 2   displ   68 non-null     float64\n",
      " 3   hp      68 non-null     int64  \n",
      " 4   weight  68 non-null     int64  \n",
      " 5   accel   68 non-null     float64\n",
      " 6   yr      68 non-null     int64  \n",
      " 7   origin  68 non-null     object \n",
      " 8   name    68 non-null     object \n",
      " 9   color   68 non-null     object \n",
      " 10  size    68 non-null     float64\n",
      " 11  marker  68 non-null     object \n",
      "dtypes: float64(4), int64(4), object(4)\n",
      "memory usage: 6.9+ KB\n",
      "None\n",
      "     mpg  cyl  displ  hp  ...                  name  color       size marker\n",
      "4   34.3    4   97.0  78  ...             audi 4000   blue  13.298178      s\n",
      "7   22.0    4  121.0  76  ...   volkswagen 411 (sw)   blue  17.514225      s\n",
      "10  44.0    4   97.0  52  ...             vw pickup   blue  12.602500      s\n",
      "16  36.0    4   79.0  58  ...         renault 5 gtl   blue   9.251736      s\n",
      "25  26.0    4   98.0  90  ...  fiat 124 sport coupe   blue  14.250625      s\n",
      "\n",
      "[5 rows x 12 columns]\n"
     ]
    }
   ],
   "source": [
    "#Cars made in Europe\n",
    "car_df_Europe = car_df[car_df['origin'].str.contains('Europe')]\n",
    "print(car_df_Europe.info())\n",
    "print(car_df_Europe.head())"
   ]
  },
  {
   "cell_type": "code",
   "execution_count": 55,
   "metadata": {
    "ExecuteTime": {
     "end_time": "2024-06-29T12:22:06.870136Z",
     "start_time": "2024-06-29T12:22:06.744299Z"
    }
   },
   "outputs": [
    {
     "data": {
      "image/png": "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",
      "text/plain": [
       "<Figure size 640x480 with 1 Axes>"
      ]
     },
     "metadata": {},
     "output_type": "display_data"
    }
   ],
   "source": [
    "fig,ax = plt.subplots()\n",
    "ax.scatter(car_df_US['weight'], car_df_US['mpg'],color='red',label='US')\n",
    "ax.scatter(car_df_Asia['weight'], car_df_Asia['mpg'],color='blue',label='Asia')\n",
    "ax.scatter(car_df_Europe['weight'], car_df_Europe['mpg'],color='green',label='Europe')\n",
    "\n",
    "ax.set_xlabel('Weight [kg]')\n",
    "ax.set_ylabel('mpg')\n",
    "ax.legend()\n",
    "ax.grid()\n",
    "plt.show()"
   ]
  }
 ],
 "metadata": {
  "kernelspec": {
   "display_name": "Python 3 (ipykernel)",
   "language": "python",
   "name": "python3"
  },
  "language_info": {
   "codemirror_mode": {
    "name": "ipython",
    "version": 3
   },
   "file_extension": ".py",
   "mimetype": "text/x-python",
   "name": "python",
   "nbconvert_exporter": "python",
   "pygments_lexer": "ipython3",
<<<<<<< HEAD
   "version": "3.11.8"
=======
   "version": "3.11.7"
>>>>>>> f0abad1f11d69619c7dc5a5e4b715a2de6840584
  },
  "toc": {
   "base_numbering": 1,
   "nav_menu": {},
   "number_sections": true,
   "sideBar": true,
   "skip_h1_title": false,
   "title_cell": "Table of Contents",
   "title_sidebar": "Contents",
   "toc_cell": false,
   "toc_position": {},
   "toc_section_display": true,
   "toc_window_display": false
  },
  "varInspector": {
   "cols": {
    "lenName": 16,
    "lenType": 16,
    "lenVar": 40
   },
   "kernels_config": {
    "python": {
     "delete_cmd_postfix": "",
     "delete_cmd_prefix": "del ",
     "library": "var_list.py",
     "varRefreshCmd": "print(var_dic_list())"
    },
    "r": {
     "delete_cmd_postfix": ") ",
     "delete_cmd_prefix": "rm(",
     "library": "var_list.r",
     "varRefreshCmd": "cat(var_dic_list()) "
    }
   },
   "types_to_exclude": [
    "module",
    "function",
    "builtin_function_or_method",
    "instance",
    "_Feature"
   ],
   "window_display": false
  }
 },
 "nbformat": 4,
 "nbformat_minor": 2
}
